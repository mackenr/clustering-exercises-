{
 "cells": [
  {
   "cell_type": "code",
   "execution_count": null,
   "metadata": {},
   "outputs": [],
   "source": [
    "from wrangle_zillow import *\n",
    "\n",
    "\n",
    "from  acq import *\n",
    "from  wrangle_mall import *\n",
    "\n",
    "import warnings\n",
    "warnings.filterwarnings(\"ignore\")\n",
    "\n",
    "import pandas as pd\n",
    "import numpy as np\n",
    "\n",
    "import matplotlib.pyplot as plt\n",
    "from matplotlib import cm\n",
    "import seaborn as sns\n",
    "\n",
    "from sklearn.cluster import KMeans\n",
    "\n",
    "\n",
    "np.random.seed(4)\n",
    "\n",
    "from itertools import combinations\n",
    "\n",
    "\n",
    "sql_database_info_probe(schema_input='iris_db')\n",
    "\n",
    "\n",
    "\n",
    "\n",
    "def acquire_iris():\n",
    "    '''\n",
    "    aquire the zillow data utilizing the query defined earlier in this wrangle file.\n",
    "    will read in cached data from any present \"zillow.csv\" present in the current directory.\n",
    "    first-read data will be saved as \"zillow.csv\" following query.\n",
    "\n",
    "    parameters: none\n",
    "\n",
    "    '''\n",
    "    query='''\n",
    "    select * from measurements\n",
    "\tleft join species\n",
    "    using (species_id)\n",
    "    ;\n",
    "    ''' \n",
    "   \n",
    "    if os.path.exists('iris_db.csv'):\n",
    "        df = pd.read_csv('iris_db.csv')\n",
    "    else:\n",
    "        database ='iris_db'\n",
    "        url = f'mysql+pymysql://{env.username}:{env.password}@{env.host}/{database}'\n",
    "        df = pd.read_sql(query, url)\n",
    "        df.to_csv('iris_db.csv', index=False)\n",
    "    return df\n",
    "\n",
    "\n"
   ]
  },
  {
   "cell_type": "code",
   "execution_count": null,
   "metadata": {},
   "outputs": [],
   "source": [
    "iris=acquire_iris()\n"
   ]
  },
  {
   "cell_type": "code",
   "execution_count": null,
   "metadata": {},
   "outputs": [],
   "source": [
    "\n",
    "differentlist=set(iris.columns.to_list())-{'petal_length', 'sepal_length','species_id','measurement_id','species_name'}\n",
    "differentlist=list(differentlist)\n",
    "differentlist\n"
   ]
  },
  {
   "cell_type": "code",
   "execution_count": null,
   "metadata": {},
   "outputs": [],
   "source": [
    "X = iris[differentlist]\n",
    "kmeans = KMeans(n_clusters=3)\n",
    "kmeans.fit(X)\n",
    "\n",
    "kmeans.predict(X)\n",
    "iris['cluster'] = kmeans.predict(X)\n"
   ]
  },
  {
   "cell_type": "code",
   "execution_count": null,
   "metadata": {},
   "outputs": [],
   "source": [
    "kmeans.cluster_centers_\n"
   ]
  },
  {
   "cell_type": "code",
   "execution_count": null,
   "metadata": {},
   "outputs": [],
   "source": [
    "centroids = pd.DataFrame(kmeans.cluster_centers_, columns=X.columns)\n",
    "centroids\n"
   ]
  },
  {
   "cell_type": "code",
   "execution_count": null,
   "metadata": {},
   "outputs": [],
   "source": [
    "iris.groupby('cluster')[differentlist].mean()\n"
   ]
  },
  {
   "cell_type": "code",
   "execution_count": null,
   "metadata": {},
   "outputs": [],
   "source": [
    "plt.figure(figsize=(14, 9))\n",
    "\n",
    "for cluster, subset in iris.groupby('cluster'):\n",
    "    plt.scatter(subset.sepal_length, subset.petal_length, label='cluster ' + str(cluster), alpha=.6)\n",
    "\n",
    "centroids.plot.scatter(y='petal_width', x='sepal_width', c='black', marker='x', s=1000, ax=plt.gca(), label='centroid')\n",
    "\n",
    "plt.legend()\n",
    "plt.xlabel('sepal_width')\n",
    "plt.ylabel('petal_width')\n",
    "plt.title('Visualizing Cluster Centers')\n",
    "\n"
   ]
  },
  {
   "cell_type": "code",
   "execution_count": null,
   "metadata": {},
   "outputs": [],
   "source": [
    "kmeans = KMeans(n_clusters=2)\n",
    "kmeans.fit(X)\n",
    "iris['cluster'] = kmeans.predict(X)\n",
    "\n",
    "sns.relplot(data=iris, x='sepal_width', y='petal_width', hue='cluster')\n"
   ]
  },
  {
   "cell_type": "code",
   "execution_count": null,
   "metadata": {},
   "outputs": [],
   "source": [
    "kmeans = KMeans(n_clusters=5).fit(X)\n",
    "iris['cluster'] = kmeans.predict(X)\n",
    "iris.cluster = 'cluster_' + (iris.cluster + 1).astype('str')\n",
    "sns.relplot(data=iris, x='sepal_width', y='petal_width', hue='cluster')\n",
    "\n",
    "\n",
    "\n"
   ]
  },
  {
   "cell_type": "code",
   "execution_count": null,
   "metadata": {},
   "outputs": [],
   "source": [
    "with plt.style.context('seaborn-darkgrid'):\n",
    "    plt.figure(figsize=(9, 6))\n",
    "    pd.Series({k: KMeans(k).fit(X).inertia_ for k in range(2, 12)}).plot(marker='x')\n",
    "    plt.xticks(range(2, 12))\n",
    "    plt.xlabel('k')\n",
    "    plt.ylabel('inertia')\n",
    "    plt.title('Change in inertia as k increases')\n",
    "\n",
    "\n"
   ]
  },
  {
   "cell_type": "code",
   "execution_count": null,
   "metadata": {},
   "outputs": [],
   "source": [
    "fig, axs = plt.subplots(2, 2, figsize=(13, 13), sharex=True, sharey=True)\n",
    "\n",
    "for ax, k in zip(axs.ravel(), range(2, 6)):\n",
    "    clusters = KMeans(k).fit(X).predict(X)\n",
    "    ax.scatter(X.sepal_width, X.petal_width, c=clusters)\n",
    "    ax.set(title='k = {}'.format(k), xlabel=' sepal_width', ylabel='petal_width ')\n",
    "\n"
   ]
  },
  {
   "cell_type": "code",
   "execution_count": null,
   "metadata": {},
   "outputs": [],
   "source": [
    "\n",
    "\n",
    "mall = get_mallcustomer_data()\n",
    "\n",
    "mall.nunique()\n"
   ]
  },
  {
   "cell_type": "code",
   "execution_count": null,
   "metadata": {},
   "outputs": [],
   "source": [
    "\n",
    "\n",
    "col_list=[ 'age', 'annual_income', 'spending_score']\n",
    "# coldict={}\n",
    "\n",
    "# for i in col_list:\n",
    "    \n",
    "#     max=mall[i].max()\n",
    "#     min=mall[i].min()\n",
    "#     coldict.update({i:[min,max]})\n",
    "\n",
    "\n",
    "\n",
    "    "
   ]
  },
  {
   "cell_type": "code",
   "execution_count": null,
   "metadata": {},
   "outputs": [],
   "source": [
    "\n"
   ]
  },
  {
   "cell_type": "code",
   "execution_count": null,
   "metadata": {},
   "outputs": [],
   "source": [
    "# for i in col_list:\n",
    "#     mall[f'{i}_bin']=pd.cut(mall[i],bins=5,labels=[1,2,3,4,5])\n",
    "\n",
    "\n",
    "# mall['gender']=pd.get_dummies(mall['gender'],drop_first=True)"
   ]
  },
  {
   "cell_type": "code",
   "execution_count": null,
   "metadata": {},
   "outputs": [],
   "source": []
  },
  {
   "cell_type": "code",
   "execution_count": null,
   "metadata": {},
   "outputs": [],
   "source": [
    "twocombolist=list(combinations(col_list,2))\n",
    "\n",
    "twocombolist"
   ]
  },
  {
   "cell_type": "code",
   "execution_count": null,
   "metadata": {},
   "outputs": [],
   "source": [
    "\n",
    "for i in twocombolist:\n",
    "    X = mall[list(i)]\n",
    "    kmeans = KMeans(n_clusters=3)\n",
    "    kmeans.fit(X)\n",
    "    kmeans.predict(X)\n",
    "    mall[f'{i[0]},{i[1]}cluster'] = kmeans.predict(X)\n",
    "    fig, axs = plt.subplots(2, 2, figsize=(13, 13), sharex=True, sharey=True)\n",
    "    for ax, k in zip(axs.ravel(), range(2, 6)):\n",
    "        clusters = KMeans(k).fit(X).predict(X)\n",
    "        ax.scatter(X[{i[0]}], X[{i[1]}], c=clusters)\n",
    "        ax.set(title='k = {}'.format(k), xlabel=f'{i[0]}', ylabel=f'{i[1]}')\n",
    "\n",
    "\n"
   ]
  },
  {
   "cell_type": "code",
   "execution_count": null,
   "metadata": {},
   "outputs": [],
   "source": [
    "for i in twocombolist:\n",
    "    X = mall[list(i)]\n",
    "    with plt.style.context('seaborn-darkgrid'):\n",
    "        plt.figure(figsize=(9, 6))\n",
    "        pd.Series({k: KMeans(k).fit(X).inertia_ for k in range(2, 12)}).plot(marker='x')\n",
    "        plt.xticks(range(2, 12))\n",
    "        plt.xlabel('k')\n",
    "        plt.ylabel('inertia ')\n",
    "        plt.title(f'Change in for {i[0]} and {i[1]}clusterinertia as k increases')\n"
   ]
  },
  {
   "cell_type": "markdown",
   "metadata": {},
   "source": [
    "\n",
    "### Exercises\n",
    "\n",
    "Do your work for this exercise in a notebook named modeling within your clustering-exercises repository.\n",
    "\n",
    "\n",
    "\n",
    "1. Clustering with the Iris Dataset \\\n",
    "Using this lesson as a guide, perform clustering on the iris dataset.\n",
    "    1. Choose features other than the ones used in the lesson.\n",
    "    2. Visualize the results of your clustering.\n",
    "    3. Use the elbow method to visually select a good value for k.\n",
    "    4. Repeat the clustering, this time with 3 different features.\n",
    "2. Use the techniques discussed in this lesson, as well as the insights gained from the exploration exercise to perform clustering on the mall customers dataset. Be sure to visualize your results!\n",
    "3. How does scaling impact the results of clustering? \\\n",
    "Compare k-means clustering results on scaled and unscaled data (you can choose any dataset for this exercise OR use the data/steps outlined in the bonus below). You can show how the resulting clusters differ either with descriptive statistics or visually.  \\\n",
    "**Bonus \\\n",
    "**a) Read in the data from this google sheet: https://docs.google.com/spreadsheets/d/1j5EgXVTR5ikUj3G5ZCQmkq6ziz_gvtASGAdw23-5_6M/edit?usp=sharing \\\n",
    "b) Visualize the data and guess the number and shape of the clusters. \\\n",
    "c) Implement the KMeans algorithm on unscaled data and visualize the clusters. \\\n",
    "d) Repeat the step above but with scaled data.   \\\n",
    "c) Write down the takeaways from this exercise\n",
    "\n",
    " error.\n"
   ]
  }
 ],
 "metadata": {
  "kernelspec": {
   "display_name": "Python 3.9.10 ('base')",
   "language": "python",
   "name": "python3"
  },
  "language_info": {
   "codemirror_mode": {
    "name": "ipython",
    "version": 3
   },
   "file_extension": ".py",
   "mimetype": "text/x-python",
   "name": "python",
   "nbconvert_exporter": "python",
   "pygments_lexer": "ipython3",
   "version": "3.9.10"
  },
  "orig_nbformat": 4,
  "vscode": {
   "interpreter": {
    "hash": "38cca0c38332a56087b24af0bc80247f4fced29cb4f7f437d91dc159adec9c4e"
   }
  }
 },
 "nbformat": 4,
 "nbformat_minor": 2
}
