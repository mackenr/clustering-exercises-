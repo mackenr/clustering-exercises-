{
 "cells": [
  {
   "cell_type": "code",
   "execution_count": 23,
   "metadata": {},
   "outputs": [
    {
     "name": "stdout",
     "output_type": "stream",
     "text": [
      "our sql grab:\n",
      " (52442, 15)\n",
      "after ensuring dates sql grab:\n",
      " (52441, 17)\n",
      "df.transactiondate.min():\n",
      "2017-01-01 00:00:00\n",
      "\n",
      "df.transactiondate.max():\n",
      "2017-09-25 00:00:00\n",
      "Number of observations removed: 9546\n"
     ]
    },
    {
     "name": "stderr",
     "output_type": "stream",
     "text": [
      "/Users/richardmacken/codeup-data-science/clustering-exercises-/wrangle_zillow.py:385: SettingWithCopyWarning: \n",
      "A value is trying to be set on a copy of a slice from a DataFrame.\n",
      "Try using .loc[row_indexer,col_indexer] = value instead\n",
      "\n",
      "See the caveats in the documentation: https://pandas.pydata.org/pandas-docs/stable/user_guide/indexing.html#returning-a-view-versus-a-copy\n",
      "  df['outlier'] = False\n",
      "/Users/richardmacken/codeup-data-science/clustering-exercises-/wrangle_zillow.py:396: SettingWithCopyWarning: \n",
      "A value is trying to be set on a copy of a slice from a DataFrame.\n",
      "Try using .loc[row_indexer,col_indexer] = value instead\n",
      "\n",
      "See the caveats in the documentation: https://pandas.pydata.org/pandas-docs/stable/user_guide/indexing.html#returning-a-view-versus-a-copy\n",
      "  df['outlier'] = np.where(((df[col] < lower_bound) | (df[col] > upper_bound)) & (df.outlier == False), True, df.outlier)\n",
      "/Users/richardmacken/codeup-data-science/clustering-exercises-/wrangle_zillow.py:244: SettingWithCopyWarning: \n",
      "A value is trying to be set on a copy of a slice from a DataFrame\n",
      "\n",
      "See the caveats in the documentation: https://pandas.pydata.org/pandas-docs/stable/user_guide/indexing.html#returning-a-view-versus-a-copy\n",
      "  df_6037.drop(columns=['outlier'],inplace=True)\n",
      "/Users/richardmacken/codeup-data-science/clustering-exercises-/wrangle_zillow.py:385: SettingWithCopyWarning: \n",
      "A value is trying to be set on a copy of a slice from a DataFrame.\n",
      "Try using .loc[row_indexer,col_indexer] = value instead\n",
      "\n",
      "See the caveats in the documentation: https://pandas.pydata.org/pandas-docs/stable/user_guide/indexing.html#returning-a-view-versus-a-copy\n",
      "  df['outlier'] = False\n",
      "/Users/richardmacken/codeup-data-science/clustering-exercises-/wrangle_zillow.py:396: SettingWithCopyWarning: \n",
      "A value is trying to be set on a copy of a slice from a DataFrame.\n",
      "Try using .loc[row_indexer,col_indexer] = value instead\n",
      "\n",
      "See the caveats in the documentation: https://pandas.pydata.org/pandas-docs/stable/user_guide/indexing.html#returning-a-view-versus-a-copy\n",
      "  df['outlier'] = np.where(((df[col] < lower_bound) | (df[col] > upper_bound)) & (df.outlier == False), True, df.outlier)\n",
      "/Users/richardmacken/codeup-data-science/clustering-exercises-/wrangle_zillow.py:247: SettingWithCopyWarning: \n",
      "A value is trying to be set on a copy of a slice from a DataFrame\n",
      "\n",
      "See the caveats in the documentation: https://pandas.pydata.org/pandas-docs/stable/user_guide/indexing.html#returning-a-view-versus-a-copy\n",
      "  df_6059.drop(columns=['outlier'],inplace=True)\n",
      "/Users/richardmacken/codeup-data-science/clustering-exercises-/wrangle_zillow.py:385: SettingWithCopyWarning: \n",
      "A value is trying to be set on a copy of a slice from a DataFrame.\n",
      "Try using .loc[row_indexer,col_indexer] = value instead\n",
      "\n",
      "See the caveats in the documentation: https://pandas.pydata.org/pandas-docs/stable/user_guide/indexing.html#returning-a-view-versus-a-copy\n",
      "  df['outlier'] = False\n",
      "/Users/richardmacken/codeup-data-science/clustering-exercises-/wrangle_zillow.py:396: SettingWithCopyWarning: \n",
      "A value is trying to be set on a copy of a slice from a DataFrame.\n",
      "Try using .loc[row_indexer,col_indexer] = value instead\n",
      "\n",
      "See the caveats in the documentation: https://pandas.pydata.org/pandas-docs/stable/user_guide/indexing.html#returning-a-view-versus-a-copy\n",
      "  df['outlier'] = np.where(((df[col] < lower_bound) | (df[col] > upper_bound)) & (df.outlier == False), True, df.outlier)\n",
      "/Users/richardmacken/codeup-data-science/clustering-exercises-/wrangle_zillow.py:250: SettingWithCopyWarning: \n",
      "A value is trying to be set on a copy of a slice from a DataFrame\n",
      "\n",
      "See the caveats in the documentation: https://pandas.pydata.org/pandas-docs/stable/user_guide/indexing.html#returning-a-view-versus-a-copy\n",
      "  df_6111.drop(columns=['outlier'],inplace=True)\n"
     ]
    },
    {
     "name": "stdout",
     "output_type": "stream",
     "text": [
      "Number of observations removed: 2830\n",
      "Number of observations removed: 903\n",
      "This is our percent change after removing all the outliers and merging :\n",
      " -25.2%\n",
      "mean kurt:\n",
      "0.44477474681080953\n",
      "final shape:\n",
      "(39227, 17)\n"
     ]
    },
    {
     "data": {
      "text/plain": [
       "None"
      ]
     },
     "metadata": {},
     "output_type": "display_data"
    },
    {
     "data": {
      "text/html": [
       "<style type=\"text/css\">\n",
       "</style>\n",
       "<table id=\"T_38359\">\n",
       "  <caption>Prepped Data \n",
       " Percentage per county</caption>\n",
       "  <thead>\n",
       "    <tr>\n",
       "      <th class=\"blank level0\" >&nbsp;</th>\n",
       "      <th id=\"T_38359_level0_col0\" class=\"col_heading level0 col0\" >parcelid</th>\n",
       "    </tr>\n",
       "    <tr>\n",
       "      <th class=\"index_name level0\" >county</th>\n",
       "      <th class=\"blank col0\" >&nbsp;</th>\n",
       "    </tr>\n",
       "  </thead>\n",
       "  <tbody>\n",
       "    <tr>\n",
       "      <th id=\"T_38359_level0_row0\" class=\"row_heading level0 row0\" >LA</th>\n",
       "      <td id=\"T_38359_row0_col0\" class=\"data row0 col0\" >61.80%</td>\n",
       "    </tr>\n",
       "    <tr>\n",
       "      <th id=\"T_38359_level0_row1\" class=\"row_heading level0 row1\" >Orange</th>\n",
       "      <td id=\"T_38359_row1_col0\" class=\"data row1 col0\" >28.67%</td>\n",
       "    </tr>\n",
       "    <tr>\n",
       "      <th id=\"T_38359_level0_row2\" class=\"row_heading level0 row2\" >Ventura</th>\n",
       "      <td id=\"T_38359_row2_col0\" class=\"data row2 col0\" >8.86%</td>\n",
       "    </tr>\n",
       "  </tbody>\n",
       "</table>\n"
      ],
      "text/plain": [
       "<pandas.io.formats.style.Styler at 0x2953fd9d0>"
      ]
     },
     "metadata": {},
     "output_type": "display_data"
    },
    {
     "data": {
      "text/plain": [
       "6037.0    33911\n",
       "6059.0    14136\n",
       "6111.0     4395\n",
       "Name: fips, dtype: int64"
      ]
     },
     "metadata": {},
     "output_type": "display_data"
    },
    {
     "name": "stderr",
     "output_type": "stream",
     "text": [
      "/Users/richardmacken/codeup-data-science/clustering-exercises-/wrangle_zillow.py:135: DtypeWarning: Columns (63) have mixed types. Specify dtype option on import or set low_memory=False.\n",
      "  df = pd.read_csv('zillow_alt.csv')\n"
     ]
    },
    {
     "name": "stdout",
     "output_type": "stream",
     "text": [
      "--- Shape: (77380, 68)\n",
      "--- Info\n",
      "<class 'pandas.core.frame.DataFrame'>\n",
      "RangeIndex: 77380 entries, 0 to 77379\n",
      "Data columns (total 68 columns):\n",
      " #   Column                        Non-Null Count  Dtype  \n",
      "---  ------                        --------------  -----  \n",
      " 0   id                            77380 non-null  int64  \n",
      " 1   parcelid                      77380 non-null  int64  \n",
      " 2   airconditioningtypeid         24953 non-null  float64\n",
      " 3   architecturalstyletypeid      206 non-null    float64\n",
      " 4   basementsqft                  50 non-null     float64\n",
      " 5   bathroomcnt                   77380 non-null  float64\n",
      " 6   bedroomcnt                    77380 non-null  float64\n",
      " 7   buildingclasstypeid           15 non-null     float64\n",
      " 8   buildingqualitytypeid         49671 non-null  float64\n",
      " 9   calculatedbathnbr             76771 non-null  float64\n",
      " 10  decktypeid                    614 non-null    float64\n",
      " 11  finishedfloor1squarefeet      6023 non-null   float64\n",
      " 12  calculatedfinishedsquarefeet  77184 non-null  float64\n",
      " 13  finishedsquarefeet12          73748 non-null  float64\n",
      " 14  finishedsquarefeet13          41 non-null     float64\n",
      " 15  finishedsquarefeet15          3009 non-null   float64\n",
      " 16  finishedsquarefeet50          6023 non-null   float64\n",
      " 17  finishedsquarefeet6           386 non-null    float64\n",
      " 18  fips                          77380 non-null  float64\n",
      " 19  fireplacecnt                  8276 non-null   float64\n",
      " 20  fullbathcnt                   76771 non-null  float64\n",
      " 21  garagecarcnt                  25474 non-null  float64\n",
      " 22  garagetotalsqft               25474 non-null  float64\n",
      " 23  hashottuborspa                1538 non-null   float64\n",
      " 24  heatingorsystemtypeid         49439 non-null  float64\n",
      " 25  latitude                      77380 non-null  float64\n",
      " 26  longitude                     77380 non-null  float64\n",
      " 27  lotsizesquarefeet             69141 non-null  float64\n",
      " 28  poolcnt                       16137 non-null  float64\n",
      " 29  poolsizesum                   867 non-null    float64\n",
      " 30  pooltypeid10                  464 non-null    float64\n",
      " 31  pooltypeid2                   1074 non-null   float64\n",
      " 32  pooltypeid7                   15042 non-null  float64\n",
      " 33  propertycountylandusecode     77380 non-null  object \n",
      " 34  propertylandusetypeid         77380 non-null  float64\n",
      " 35  propertyzoningdesc            50330 non-null  object \n",
      " 36  rawcensustractandblock        77380 non-null  float64\n",
      " 37  regionidcity                  75909 non-null  float64\n",
      " 38  regionidcounty                77380 non-null  float64\n",
      " 39  regionidneighborhood          30890 non-null  float64\n",
      " 40  regionidzip                   77330 non-null  float64\n",
      " 41  roomcnt                       77380 non-null  float64\n",
      " 42  storytypeid                   50 non-null     float64\n",
      " 43  threequarterbathnbr           10096 non-null  float64\n",
      " 44  typeconstructiontypeid        222 non-null    float64\n",
      " 45  unitcnt                       50562 non-null  float64\n",
      " 46  yardbuildingsqft17            2388 non-null   float64\n",
      " 47  yardbuildingsqft26            70 non-null     float64\n",
      " 48  yearbuilt                     77117 non-null  float64\n",
      " 49  numberofstories               17560 non-null  float64\n",
      " 50  fireplaceflag                 172 non-null    float64\n",
      " 51  structuretaxvaluedollarcnt    77268 non-null  float64\n",
      " 52  taxvaluedollarcnt             77379 non-null  float64\n",
      " 53  assessmentyear                77380 non-null  float64\n",
      " 54  landtaxvaluedollarcnt         77378 non-null  float64\n",
      " 55  taxamount                     77375 non-null  float64\n",
      " 56  taxdelinquencyflag            2886 non-null   object \n",
      " 57  taxdelinquencyyear            2886 non-null   float64\n",
      " 58  censustractandblock           77136 non-null  float64\n",
      " 59  logerror                      77380 non-null  float64\n",
      " 60  transactiondate               77380 non-null  object \n",
      " 61  airconditioningdesc           24953 non-null  object \n",
      " 62  architecturalstyledesc        206 non-null    object \n",
      " 63  buildingclassdesc             15 non-null     object \n",
      " 64  heatingorsystemdesc           49439 non-null  object \n",
      " 65  propertylandusedesc           77380 non-null  object \n",
      " 66  storydesc                     50 non-null     object \n",
      " 67  typeconstructiondesc          222 non-null    object \n",
      "dtypes: float64(55), int64(2), object(11)\n",
      "memory usage: 40.1+ MB\n",
      "--- Column Descriptions\n",
      "                  id      parcelid  airconditioningtypeid  \\\n",
      "count   7.738000e+04  7.738000e+04           24953.000000   \n",
      "unique           NaN           NaN                    NaN   \n",
      "top              NaN           NaN                    NaN   \n",
      "freq             NaN           NaN                    NaN   \n",
      "mean    1.495126e+06  1.300715e+07               1.813289   \n",
      "std     8.609057e+05  3.481368e+06               2.967894   \n",
      "min     3.490000e+02  1.071186e+07               1.000000   \n",
      "25%     7.520500e+05  1.153830e+07               1.000000   \n",
      "50%     1.497870e+06  1.253155e+07               1.000000   \n",
      "75%     2.240480e+06  1.421184e+07               1.000000   \n",
      "max     2.982274e+06  1.676893e+08              13.000000   \n",
      "\n",
      "        architecturalstyletypeid  basementsqft   bathroomcnt    bedroomcnt  \\\n",
      "count                 206.000000     50.000000  77380.000000  77380.000000   \n",
      "unique                       NaN           NaN           NaN           NaN   \n",
      "top                          NaN           NaN           NaN           NaN   \n",
      "freq                         NaN           NaN           NaN           NaN   \n",
      "mean                    7.388350    679.720000      2.299134      3.053489   \n",
      "std                     2.734542    689.703546      0.996657      1.139103   \n",
      "min                     2.000000     38.000000      0.000000      0.000000   \n",
      "25%                     7.000000    273.000000      2.000000      2.000000   \n",
      "50%                     7.000000    515.000000      2.000000      3.000000   \n",
      "75%                     7.000000    796.500000      3.000000      4.000000   \n",
      "max                    21.000000   3560.000000     18.000000     16.000000   \n",
      "\n",
      "        buildingclasstypeid  buildingqualitytypeid  calculatedbathnbr  ...  \\\n",
      "count             15.000000           49671.000000       76771.000000  ...   \n",
      "unique                  NaN                    NaN                NaN  ...   \n",
      "top                     NaN                    NaN                NaN  ...   \n",
      "freq                    NaN                    NaN                NaN  ...   \n",
      "mean               3.933333               6.534638           2.316871  ...   \n",
      "std                0.258199               1.721933           0.979761  ...   \n",
      "min                3.000000               1.000000           1.000000  ...   \n",
      "25%                4.000000               6.000000           2.000000  ...   \n",
      "50%                4.000000               6.000000           2.000000  ...   \n",
      "75%                4.000000               8.000000           3.000000  ...   \n",
      "max                4.000000              12.000000          18.000000  ...   \n",
      "\n",
      "        censustractandblock      logerror  transactiondate  \\\n",
      "count          7.713600e+04  77380.000000            77380   \n",
      "unique                  NaN           NaN              264   \n",
      "top                     NaN           NaN       2017-06-30   \n",
      "freq                    NaN           NaN             1189   \n",
      "mean           6.049674e+13      0.016628              NaN   \n",
      "std            1.535252e+12      0.170190              NaN   \n",
      "min            6.037101e+13     -4.655420              NaN   \n",
      "25%            6.037311e+13     -0.024377              NaN   \n",
      "50%            6.037603e+13      0.006627              NaN   \n",
      "75%            6.059042e+13      0.039204              NaN   \n",
      "max            4.830301e+14      5.262999              NaN   \n",
      "\n",
      "        airconditioningdesc  architecturalstyledesc  \\\n",
      "count                 24953                     206   \n",
      "unique                    5                       5   \n",
      "top                 Central            Contemporary   \n",
      "freq                  23133                     172   \n",
      "mean                    NaN                     NaN   \n",
      "std                     NaN                     NaN   \n",
      "min                     NaN                     NaN   \n",
      "25%                     NaN                     NaN   \n",
      "50%                     NaN                     NaN   \n",
      "75%                     NaN                     NaN   \n",
      "max                     NaN                     NaN   \n",
      "\n",
      "                                     buildingclassdesc  heatingorsystemdesc  \\\n",
      "count                                               15                49439   \n",
      "unique                                               2                   10   \n",
      "top     Buildings having wood or wood and steel frames              Central   \n",
      "freq                                                14                33550   \n",
      "mean                                               NaN                  NaN   \n",
      "std                                                NaN                  NaN   \n",
      "min                                                NaN                  NaN   \n",
      "25%                                                NaN                  NaN   \n",
      "50%                                                NaN                  NaN   \n",
      "75%                                                NaN                  NaN   \n",
      "max                                                NaN                  NaN   \n",
      "\n",
      "              propertylandusedesc  storydesc  typeconstructiondesc  \n",
      "count                       77380         50                   222  \n",
      "unique                         13          1                     4  \n",
      "top     Single Family Residential   Basement                 Frame  \n",
      "freq                        52319         50                   219  \n",
      "mean                          NaN        NaN                   NaN  \n",
      "std                           NaN        NaN                   NaN  \n",
      "min                           NaN        NaN                   NaN  \n",
      "25%                           NaN        NaN                   NaN  \n",
      "50%                           NaN        NaN                   NaN  \n",
      "75%                           NaN        NaN                   NaN  \n",
      "max                           NaN        NaN                   NaN  \n",
      "\n",
      "[11 rows x 68 columns]\n"
     ]
    }
   ],
   "source": [
    "from wrangle_zillow import *\n",
    "\n",
    "\n",
    "\n",
    "\n",
    "alpha=0.05 #alpha for stats\n",
    "\n",
    "\n",
    "import plotly.express as px\n",
    "import warnings\n",
    "\n",
    "\n",
    "\n",
    "df=prep_zillow_2017(k=1.25)\n",
    "dfa=wrangle_zillow()\n"
   ]
  },
  {
   "cell_type": "code",
   "execution_count": 24,
   "metadata": {},
   "outputs": [
    {
     "data": {
      "text/plain": [
       "92.60981506719702"
      ]
     },
     "execution_count": 24,
     "metadata": {},
     "output_type": "execute_result"
    }
   ],
   "source": [
    "dfa.shape\n",
    "common=['bathroomcnt',\t'bedroomcnt',\t'lotsizesquarefeet',\t'yearbuilt',\t'taxvaluedollarcnt','logerror']\n",
    "\n",
    "dfa[common].kurt().mean()\n"
   ]
  },
  {
   "cell_type": "code",
   "execution_count": 25,
   "metadata": {},
   "outputs": [
    {
     "data": {
      "text/plain": [
       "20.097828922222245"
      ]
     },
     "execution_count": 25,
     "metadata": {},
     "output_type": "execute_result"
    }
   ],
   "source": [
    "df.shape\n",
    "\n",
    "df[common].kurt().mean()\n"
   ]
  },
  {
   "cell_type": "code",
   "execution_count": null,
   "metadata": {},
   "outputs": [],
   "source": []
  }
 ],
 "metadata": {
  "kernelspec": {
   "display_name": "Python 3.9.10 ('base')",
   "language": "python",
   "name": "python3"
  },
  "language_info": {
   "codemirror_mode": {
    "name": "ipython",
    "version": 3
   },
   "file_extension": ".py",
   "mimetype": "text/x-python",
   "name": "python",
   "nbconvert_exporter": "python",
   "pygments_lexer": "ipython3",
   "version": "3.9.10"
  },
  "orig_nbformat": 4,
  "vscode": {
   "interpreter": {
    "hash": "38cca0c38332a56087b24af0bc80247f4fced29cb4f7f437d91dc159adec9c4e"
   }
  }
 },
 "nbformat": 4,
 "nbformat_minor": 2
}
