{
 "cells": [
  {
   "cell_type": "code",
   "execution_count": 1,
   "metadata": {},
   "outputs": [
    {
     "name": "stdout",
     "output_type": "stream",
     "text": [
      "our sql grab:\n",
      " (52442, 15)\n",
      "\n",
      "Index(['assessmentyear', 'bathroomcnt', 'bedroomcnt', 'calculatedbathnbr',\n",
      "       'calculatedfinishedsquarefeet', 'fips', 'fullbathcnt', 'parcelid',\n",
      "       'latitude', 'logerror', 'longitude', 'lotsizesquarefeet',\n",
      "       'taxvaluedollarcnt', 'transactiondate', 'yearbuilt'],\n",
      "      dtype='object')\n",
      "after ensuring dates sql grab:\n",
      " (52441, 17)\n",
      "df.transactiondate.min():\n",
      "2017-01-01 00:00:00\n",
      "\n",
      "df.transactiondate.max():\n",
      "2017-09-25 00:00:00\n"
     ]
    },
    {
     "name": "stderr",
     "output_type": "stream",
     "text": [
      "/Users/richardmacken/codeup-data-science/clustering-exercises-/wrangle_zillow.py:385: SettingWithCopyWarning: \n",
      "A value is trying to be set on a copy of a slice from a DataFrame.\n",
      "Try using .loc[row_indexer,col_indexer] = value instead\n",
      "\n",
      "See the caveats in the documentation: https://pandas.pydata.org/pandas-docs/stable/user_guide/indexing.html#returning-a-view-versus-a-copy\n",
      "  df['outlier'] = False\n",
      "/Users/richardmacken/codeup-data-science/clustering-exercises-/wrangle_zillow.py:396: SettingWithCopyWarning: \n",
      "A value is trying to be set on a copy of a slice from a DataFrame.\n",
      "Try using .loc[row_indexer,col_indexer] = value instead\n",
      "\n",
      "See the caveats in the documentation: https://pandas.pydata.org/pandas-docs/stable/user_guide/indexing.html#returning-a-view-versus-a-copy\n",
      "  df['outlier'] = np.where(((df[col] < lower_bound) | (df[col] > upper_bound)) & (df.outlier == False), True, df.outlier)\n",
      "/Users/richardmacken/codeup-data-science/clustering-exercises-/wrangle_zillow.py:244: SettingWithCopyWarning: \n",
      "A value is trying to be set on a copy of a slice from a DataFrame\n",
      "\n",
      "See the caveats in the documentation: https://pandas.pydata.org/pandas-docs/stable/user_guide/indexing.html#returning-a-view-versus-a-copy\n",
      "  df_6037.drop(columns=['outlier'],inplace=True)\n",
      "/Users/richardmacken/codeup-data-science/clustering-exercises-/wrangle_zillow.py:385: SettingWithCopyWarning: \n",
      "A value is trying to be set on a copy of a slice from a DataFrame.\n",
      "Try using .loc[row_indexer,col_indexer] = value instead\n",
      "\n",
      "See the caveats in the documentation: https://pandas.pydata.org/pandas-docs/stable/user_guide/indexing.html#returning-a-view-versus-a-copy\n",
      "  df['outlier'] = False\n",
      "/Users/richardmacken/codeup-data-science/clustering-exercises-/wrangle_zillow.py:396: SettingWithCopyWarning: \n",
      "A value is trying to be set on a copy of a slice from a DataFrame.\n",
      "Try using .loc[row_indexer,col_indexer] = value instead\n",
      "\n",
      "See the caveats in the documentation: https://pandas.pydata.org/pandas-docs/stable/user_guide/indexing.html#returning-a-view-versus-a-copy\n",
      "  df['outlier'] = np.where(((df[col] < lower_bound) | (df[col] > upper_bound)) & (df.outlier == False), True, df.outlier)\n",
      "/Users/richardmacken/codeup-data-science/clustering-exercises-/wrangle_zillow.py:247: SettingWithCopyWarning: \n",
      "A value is trying to be set on a copy of a slice from a DataFrame\n",
      "\n",
      "See the caveats in the documentation: https://pandas.pydata.org/pandas-docs/stable/user_guide/indexing.html#returning-a-view-versus-a-copy\n",
      "  df_6059.drop(columns=['outlier'],inplace=True)\n",
      "/Users/richardmacken/codeup-data-science/clustering-exercises-/wrangle_zillow.py:385: SettingWithCopyWarning: \n",
      "A value is trying to be set on a copy of a slice from a DataFrame.\n",
      "Try using .loc[row_indexer,col_indexer] = value instead\n",
      "\n",
      "See the caveats in the documentation: https://pandas.pydata.org/pandas-docs/stable/user_guide/indexing.html#returning-a-view-versus-a-copy\n",
      "  df['outlier'] = False\n",
      "/Users/richardmacken/codeup-data-science/clustering-exercises-/wrangle_zillow.py:396: SettingWithCopyWarning: \n",
      "A value is trying to be set on a copy of a slice from a DataFrame.\n",
      "Try using .loc[row_indexer,col_indexer] = value instead\n",
      "\n",
      "See the caveats in the documentation: https://pandas.pydata.org/pandas-docs/stable/user_guide/indexing.html#returning-a-view-versus-a-copy\n",
      "  df['outlier'] = np.where(((df[col] < lower_bound) | (df[col] > upper_bound)) & (df.outlier == False), True, df.outlier)\n",
      "/Users/richardmacken/codeup-data-science/clustering-exercises-/wrangle_zillow.py:250: SettingWithCopyWarning: \n",
      "A value is trying to be set on a copy of a slice from a DataFrame\n",
      "\n",
      "See the caveats in the documentation: https://pandas.pydata.org/pandas-docs/stable/user_guide/indexing.html#returning-a-view-versus-a-copy\n",
      "  df_6111.drop(columns=['outlier'],inplace=True)\n"
     ]
    },
    {
     "name": "stdout",
     "output_type": "stream",
     "text": [
      "Number of observations removed: 9546\n",
      "Number of observations removed: 2830\n",
      "Number of observations removed: 903\n",
      "This is our percent change after removing all the outliers and merging :\n",
      " -25.2%\n",
      "mean kurt:\n",
      "0.44477474681080953\n",
      "final shape:\n",
      "(39227, 17)\n"
     ]
    },
    {
     "data": {
      "text/plain": [
       "None"
      ]
     },
     "metadata": {},
     "output_type": "display_data"
    },
    {
     "data": {
      "text/html": [
       "<style type=\"text/css\">\n",
       "</style>\n",
       "<table id=\"T_d4c7b\">\n",
       "  <caption>Prepped Data \n",
       " Percentage per county</caption>\n",
       "  <thead>\n",
       "    <tr>\n",
       "      <th class=\"blank level0\" >&nbsp;</th>\n",
       "      <th id=\"T_d4c7b_level0_col0\" class=\"col_heading level0 col0\" >parcelid</th>\n",
       "    </tr>\n",
       "    <tr>\n",
       "      <th class=\"index_name level0\" >county</th>\n",
       "      <th class=\"blank col0\" >&nbsp;</th>\n",
       "    </tr>\n",
       "  </thead>\n",
       "  <tbody>\n",
       "    <tr>\n",
       "      <th id=\"T_d4c7b_level0_row0\" class=\"row_heading level0 row0\" >LA</th>\n",
       "      <td id=\"T_d4c7b_row0_col0\" class=\"data row0 col0\" >61.80%</td>\n",
       "    </tr>\n",
       "    <tr>\n",
       "      <th id=\"T_d4c7b_level0_row1\" class=\"row_heading level0 row1\" >Orange</th>\n",
       "      <td id=\"T_d4c7b_row1_col0\" class=\"data row1 col0\" >28.67%</td>\n",
       "    </tr>\n",
       "    <tr>\n",
       "      <th id=\"T_d4c7b_level0_row2\" class=\"row_heading level0 row2\" >Ventura</th>\n",
       "      <td id=\"T_d4c7b_row2_col0\" class=\"data row2 col0\" >8.86%</td>\n",
       "    </tr>\n",
       "  </tbody>\n",
       "</table>\n"
      ],
      "text/plain": [
       "<pandas.io.formats.style.Styler at 0x168d577f0>"
      ]
     },
     "metadata": {},
     "output_type": "display_data"
    }
   ],
   "source": [
    "from wrangle_zillow import *\n",
    "from model import *\n",
    "\n",
    "\n",
    "\n",
    "\n",
    "alpha=0.05 #alpha for stats\n",
    "\n",
    "\n",
    "import plotly.express as px\n",
    "import warnings\n",
    "\n",
    "\n",
    "\n",
    "df=prep_zillow_2017(k=1.25)\n",
    "\n",
    "\n",
    "\n",
    "\n"
   ]
  },
  {
   "cell_type": "code",
   "execution_count": 2,
   "metadata": {},
   "outputs": [
    {
     "data": {
      "text/plain": [
       "Index(['bathroomcnt', 'bedroomcnt', 'area', 'taxvaluedollarcnt', 'fips',\n",
       "       'yearbuilt', 'lotsizesquarefeet', 'logerror', 'latitude',\n",
       "       'transaction_month', 'longitude', 'county', 'Geogroups', 'agebydecade'],\n",
       "      dtype='object')"
      ]
     },
     "execution_count": 2,
     "metadata": {},
     "output_type": "execute_result"
    }
   ],
   "source": [
    "df.columns"
   ]
  },
  {
   "cell_type": "code",
   "execution_count": 3,
   "metadata": {},
   "outputs": [
    {
     "name": "stderr",
     "output_type": "stream",
     "text": [
      "/opt/homebrew/anaconda3/lib/python3.9/site-packages/sklearn/base.py:450: UserWarning: X does not have valid feature names, but MinMaxScaler was fitted with feature names\n",
      "  warnings.warn(\n",
      "/opt/homebrew/anaconda3/lib/python3.9/site-packages/sklearn/base.py:450: UserWarning: X does not have valid feature names, but MinMaxScaler was fitted with feature names\n",
      "  warnings.warn(\n"
     ]
    }
   ],
   "source": [
    "mvp=['area','lotsizesquarefeet','taxvaluedollarcnt','bathroomcnt', 'bedroomcnt','logerror']\n",
    "\n",
    "\n",
    "\n",
    "\n",
    "fulllist,fullscaledlist,lalist,lascaledlist,oclist,ocscaledlist,venturalist,venturascaledlist=single_split_many_return(df,mvp)\n",
    "## Non scaled\n",
    "X_train=fulllist[0]\n",
    "y_train=fulllist[1]\n",
    "X_validate=fulllist[2]\n",
    "y_validate=fulllist[3]\n",
    "X_test =fulllist[4]\n",
    "y_test=fulllist[5]\n",
    "train =fulllist[6]\n",
    "\n",
    "X_la_train=lalist[0]\n",
    "y_la_train=lalist[1]\n",
    "X_la_validate=lalist[2] \n",
    "y_la_validate=lalist[3] \n",
    "X_la_test=lalist[4] \n",
    "y_la_test=lalist[5]\n",
    "train_la=lalist[6] \n",
    "\n",
    "X_orange_train=oclist[0] \n",
    "y_orange_train=oclist[1] \n",
    "X_orange_validate=oclist[2] \n",
    "y_orange_validate=oclist[3] \n",
    "X_orange_test=oclist[4] \n",
    "y_orange_test=oclist[5] \n",
    "orange_train=oclist[6]\n",
    "\n",
    "## Scaled\n",
    "\n",
    "\n",
    "\n",
    "X_scaled_train=fullscaledlist[0]\n",
    "y_scaled_train=fullscaledlist[1]\n",
    "X_scaled_validate=fullscaledlist[2]\n",
    "y_scaled_validate=fullscaledlist[3]\n",
    "X_scaled_test =fullscaledlist[4]\n",
    "y_scaled_test=fullscaledlist[5]\n",
    "\n",
    "\n",
    "X_scaled_la_train=lascaledlist[0]\n",
    "y_scaled_la_train=lascaledlist[1]\n",
    "X_scaled_la_validate=lascaledlist[2] \n",
    "y_scaled_la_validate=lascaledlist[3] \n",
    "X_scaled_la_test=lascaledlist[4] \n",
    "y_scaled_la_test=lascaledlist[5]\n",
    "\n",
    "\n",
    "X_scaled_orange_train=ocscaledlist[0] \n",
    "y_scaled_orange_train=ocscaledlist[1] \n",
    "X_scaled_orange_validate=ocscaledlist[2] \n",
    "y_scaled_orange_validate=ocscaledlist[3] \n",
    "X_scaled_orange_test=ocscaledlist[4] \n",
    "y_scaled_orange_test=ocscaledlist[5] \n",
    "\n",
    "\n",
    "X_scaled_ventura_train=venturascaledlist[0] \n",
    "y_scaled_ventura_train=venturascaledlist[1] \n",
    "X_scaled_ventura_validate=venturascaledlist[2] \n",
    "y_scaled_ventura_validate=venturascaledlist[3] \n",
    "X_scaled_ventura_test=venturascaledlist[4] \n",
    "y_scaled_ventura_test=venturascaledlist[5] \n",
    "\n",
    "\n"
   ]
  },
  {
   "cell_type": "code",
   "execution_count": null,
   "metadata": {},
   "outputs": [],
   "source": [
    "\n"
   ]
  },
  {
   "cell_type": "code",
   "execution_count": 4,
   "metadata": {},
   "outputs": [
    {
     "data": {
      "text/html": [
       "<div>\n",
       "<style scoped>\n",
       "    .dataframe tbody tr th:only-of-type {\n",
       "        vertical-align: middle;\n",
       "    }\n",
       "\n",
       "    .dataframe tbody tr th {\n",
       "        vertical-align: top;\n",
       "    }\n",
       "\n",
       "    .dataframe thead th {\n",
       "        text-align: right;\n",
       "    }\n",
       "</style>\n",
       "<table border=\"1\" class=\"dataframe\">\n",
       "  <thead>\n",
       "    <tr style=\"text-align: right;\">\n",
       "      <th></th>\n",
       "      <th>bathroomcnt</th>\n",
       "      <th>bedroomcnt</th>\n",
       "      <th>area</th>\n",
       "      <th>taxvaluedollarcnt</th>\n",
       "      <th>lotsizesquarefeet</th>\n",
       "      <th>Geogroups</th>\n",
       "      <th>agebydecade</th>\n",
       "    </tr>\n",
       "  </thead>\n",
       "  <tbody>\n",
       "    <tr>\n",
       "      <th>36475</th>\n",
       "      <td>2.0</td>\n",
       "      <td>4.0</td>\n",
       "      <td>2098.0</td>\n",
       "      <td>728160.0</td>\n",
       "      <td>8526.0</td>\n",
       "      <td>17</td>\n",
       "      <td>47</td>\n",
       "    </tr>\n",
       "    <tr>\n",
       "      <th>38372</th>\n",
       "      <td>2.5</td>\n",
       "      <td>3.0</td>\n",
       "      <td>1763.0</td>\n",
       "      <td>270359.0</td>\n",
       "      <td>6765.0</td>\n",
       "      <td>23</td>\n",
       "      <td>27</td>\n",
       "    </tr>\n",
       "    <tr>\n",
       "      <th>37309</th>\n",
       "      <td>2.0</td>\n",
       "      <td>4.0</td>\n",
       "      <td>1999.0</td>\n",
       "      <td>264587.0</td>\n",
       "      <td>8848.0</td>\n",
       "      <td>21</td>\n",
       "      <td>37</td>\n",
       "    </tr>\n",
       "    <tr>\n",
       "      <th>37210</th>\n",
       "      <td>1.5</td>\n",
       "      <td>4.0</td>\n",
       "      <td>1226.0</td>\n",
       "      <td>441000.0</td>\n",
       "      <td>11655.0</td>\n",
       "      <td>21</td>\n",
       "      <td>57</td>\n",
       "    </tr>\n",
       "    <tr>\n",
       "      <th>38816</th>\n",
       "      <td>1.0</td>\n",
       "      <td>3.0</td>\n",
       "      <td>964.0</td>\n",
       "      <td>105185.0</td>\n",
       "      <td>6499.0</td>\n",
       "      <td>19</td>\n",
       "      <td>67</td>\n",
       "    </tr>\n",
       "    <tr>\n",
       "      <th>...</th>\n",
       "      <td>...</td>\n",
       "      <td>...</td>\n",
       "      <td>...</td>\n",
       "      <td>...</td>\n",
       "      <td>...</td>\n",
       "      <td>...</td>\n",
       "      <td>...</td>\n",
       "    </tr>\n",
       "    <tr>\n",
       "      <th>37520</th>\n",
       "      <td>2.0</td>\n",
       "      <td>4.0</td>\n",
       "      <td>2263.0</td>\n",
       "      <td>350663.0</td>\n",
       "      <td>11064.0</td>\n",
       "      <td>21</td>\n",
       "      <td>47</td>\n",
       "    </tr>\n",
       "    <tr>\n",
       "      <th>38573</th>\n",
       "      <td>2.5</td>\n",
       "      <td>3.0</td>\n",
       "      <td>2063.0</td>\n",
       "      <td>360329.0</td>\n",
       "      <td>13254.0</td>\n",
       "      <td>19</td>\n",
       "      <td>47</td>\n",
       "    </tr>\n",
       "    <tr>\n",
       "      <th>38255</th>\n",
       "      <td>2.0</td>\n",
       "      <td>3.0</td>\n",
       "      <td>1310.0</td>\n",
       "      <td>358970.0</td>\n",
       "      <td>8050.0</td>\n",
       "      <td>20</td>\n",
       "      <td>57</td>\n",
       "    </tr>\n",
       "    <tr>\n",
       "      <th>38532</th>\n",
       "      <td>2.5</td>\n",
       "      <td>3.0</td>\n",
       "      <td>1803.0</td>\n",
       "      <td>450222.0</td>\n",
       "      <td>4410.0</td>\n",
       "      <td>22</td>\n",
       "      <td>37</td>\n",
       "    </tr>\n",
       "    <tr>\n",
       "      <th>36461</th>\n",
       "      <td>1.0</td>\n",
       "      <td>2.0</td>\n",
       "      <td>720.0</td>\n",
       "      <td>154701.0</td>\n",
       "      <td>3600.0</td>\n",
       "      <td>22</td>\n",
       "      <td>87</td>\n",
       "    </tr>\n",
       "  </tbody>\n",
       "</table>\n",
       "<p>1921 rows × 7 columns</p>\n",
       "</div>"
      ],
      "text/plain": [
       "       bathroomcnt  bedroomcnt    area  taxvaluedollarcnt  lotsizesquarefeet  \\\n",
       "36475          2.0         4.0  2098.0           728160.0             8526.0   \n",
       "38372          2.5         3.0  1763.0           270359.0             6765.0   \n",
       "37309          2.0         4.0  1999.0           264587.0             8848.0   \n",
       "37210          1.5         4.0  1226.0           441000.0            11655.0   \n",
       "38816          1.0         3.0   964.0           105185.0             6499.0   \n",
       "...            ...         ...     ...                ...                ...   \n",
       "37520          2.0         4.0  2263.0           350663.0            11064.0   \n",
       "38573          2.5         3.0  2063.0           360329.0            13254.0   \n",
       "38255          2.0         3.0  1310.0           358970.0             8050.0   \n",
       "38532          2.5         3.0  1803.0           450222.0             4410.0   \n",
       "36461          1.0         2.0   720.0           154701.0             3600.0   \n",
       "\n",
       "       Geogroups  agebydecade  \n",
       "36475         17           47  \n",
       "38372         23           27  \n",
       "37309         21           37  \n",
       "37210         21           57  \n",
       "38816         19           67  \n",
       "...          ...          ...  \n",
       "37520         21           47  \n",
       "38573         19           47  \n",
       "38255         20           57  \n",
       "38532         22           37  \n",
       "36461         22           87  \n",
       "\n",
       "[1921 rows x 7 columns]"
      ]
     },
     "execution_count": 4,
     "metadata": {},
     "output_type": "execute_result"
    }
   ],
   "source": [
    "X_scaled_ventura_train\n"
   ]
  },
  {
   "cell_type": "code",
   "execution_count": 5,
   "metadata": {},
   "outputs": [
    {
     "data": {
      "text/plain": [
       "36475   -0.057595\n",
       "38372   -0.008135\n",
       "37309    0.003855\n",
       "37210    0.008370\n",
       "38816    0.127072\n",
       "           ...   \n",
       "37520    0.164748\n",
       "38573   -0.040018\n",
       "38255   -0.049093\n",
       "38532    0.011870\n",
       "36461   -0.131246\n",
       "Name: logerror, Length: 1921, dtype: float64"
      ]
     },
     "execution_count": 5,
     "metadata": {},
     "output_type": "execute_result"
    }
   ],
   "source": [
    "y_scaled_ventura_train\n"
   ]
  },
  {
   "cell_type": "code",
   "execution_count": 6,
   "metadata": {},
   "outputs": [
    {
     "data": {
      "text/plain": [
       "array([[-0.22222222, -0.44444444, -0.1808012 , ..., -0.12841514,\n",
       "        -2.69444444, -0.0796875 ],\n",
       "       [-0.22222222, -0.55555556, -0.18084095, ..., -0.12845642,\n",
       "        -2.80555556, -0.08125   ],\n",
       "       [-0.33333333, -0.66666667, -0.18091688, ..., -0.1284525 ,\n",
       "        -2.80555556, -0.08125   ],\n",
       "       ...,\n",
       "       [-0.22222222, -0.44444444, -0.1808625 , ..., -0.12845207,\n",
       "        -2.83333333, -0.08125   ],\n",
       "       [-0.22222222, -0.55555556, -0.18088314, ..., -0.12843891,\n",
       "        -2.83333333, -0.0796875 ],\n",
       "       [-0.22222222, -0.55555556, -0.18089287, ..., -0.12846105,\n",
       "        -2.80555556, -0.0796875 ]])"
      ]
     },
     "execution_count": 6,
     "metadata": {},
     "output_type": "execute_result"
    }
   ],
   "source": [
    "X_scaled_ventura_validate\n"
   ]
  },
  {
   "cell_type": "code",
   "execution_count": 7,
   "metadata": {},
   "outputs": [
    {
     "data": {
      "text/plain": [
       "array([[0.5       , 1.        , 0.40952955, ..., 0.5205045 , 0.66666667,\n",
       "        0.625     ],\n",
       "       [0.66666667, 0.33333333, 0.07539204, ..., 0.70497123, 1.        ,\n",
       "        0.875     ],\n",
       "       [0.66666667, 0.33333333, 0.49155609, ..., 0.39519103, 0.83333333,\n",
       "        0.25      ],\n",
       "       ...,\n",
       "       [0.33333333, 0.33333333, 0.32448733, ..., 0.39887889, 0.5       ,\n",
       "        0.75      ],\n",
       "       [0.        , 0.33333333, 0.1884801 , ..., 0.31051778, 0.66666667,\n",
       "        0.75      ],\n",
       "       [0.        , 0.33333333, 0.10554885, ..., 0.31405812, 0.5       ,\n",
       "        0.75      ]])"
      ]
     },
     "execution_count": 7,
     "metadata": {},
     "output_type": "execute_result"
    }
   ],
   "source": [
    "X_scaled_ventura_test\n"
   ]
  },
  {
   "cell_type": "code",
   "execution_count": 8,
   "metadata": {},
   "outputs": [
    {
     "data": {
      "text/plain": [
       "38927    0.033840\n",
       "35800   -0.181399\n",
       "37962   -0.012998\n",
       "37997    0.001468\n",
       "36378    0.010575\n",
       "           ...   \n",
       "39221    0.023167\n",
       "37476   -0.117422\n",
       "38494    0.092108\n",
       "36240   -0.021274\n",
       "38901   -0.085906\n",
       "Name: logerror, Length: 750, dtype: float64"
      ]
     },
     "execution_count": 8,
     "metadata": {},
     "output_type": "execute_result"
    }
   ],
   "source": [
    "y_scaled_ventura_test"
   ]
  }
 ],
 "metadata": {
  "kernelspec": {
   "display_name": "Python 3.9.10 ('base')",
   "language": "python",
   "name": "python3"
  },
  "language_info": {
   "codemirror_mode": {
    "name": "ipython",
    "version": 3
   },
   "file_extension": ".py",
   "mimetype": "text/x-python",
   "name": "python",
   "nbconvert_exporter": "python",
   "pygments_lexer": "ipython3",
   "version": "3.9.10"
  },
  "orig_nbformat": 4,
  "vscode": {
   "interpreter": {
    "hash": "38cca0c38332a56087b24af0bc80247f4fced29cb4f7f437d91dc159adec9c4e"
   }
  }
 },
 "nbformat": 4,
 "nbformat_minor": 2
}
